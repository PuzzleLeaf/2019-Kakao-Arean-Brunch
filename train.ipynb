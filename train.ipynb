{
 "cells": [
  {
   "cell_type": "code",
   "execution_count": 1,
   "metadata": {},
   "outputs": [],
   "source": [
    "from collections import Counter\n",
    "from datetime import timedelta, datetime\n",
    "import glob\n",
    "from itertools import chain\n",
    "import json\n",
    "import os\n",
    "import re\n",
    "import time\n",
    "import sys\n",
    "import numpy as np\n",
    "import pandas as pd\n",
    "import math\n",
    "import copy\n",
    "from time import gmtime, strftime\n",
    "\n",
    "# 설정 파일\n",
    "import config as conf"
   ]
  },
  {
   "cell_type": "code",
   "execution_count": 2,
   "metadata": {},
   "outputs": [],
   "source": [
    "def drawProgressBar(percent, barLen = 20):\n",
    "    # percent float from 0 to 1. \n",
    "    sys.stdout.write(\"\\r\")\n",
    "    sys.stdout.write(\"[{:<{}}] {:.0f}%\".format(\"=\" * int(barLen * percent), barLen, percent * 100))\n",
    "    sys.stdout.flush()"
   ]
  },
  {
   "cell_type": "code",
   "execution_count": null,
   "metadata": {},
   "outputs": [],
   "source": [
    "print(\"Start\")"
   ]
  },
  {
   "cell_type": "code",
   "execution_count": 3,
   "metadata": {},
   "outputs": [],
   "source": [
    "# 예측 유저 목록\n",
    "predict_users = pd.read_csv(conf.predict_res, names=['user_id'])"
   ]
  },
  {
   "cell_type": "code",
   "execution_count": 4,
   "metadata": {},
   "outputs": [],
   "source": [
    "# 메타 데이터\n",
    "metadata = pd.read_json('res/metadata.json', lines=True)"
   ]
  },
  {
   "cell_type": "code",
   "execution_count": 5,
   "metadata": {},
   "outputs": [],
   "source": [
    "after_oct_articles = []\n",
    "after_oct_articles = metadata[metadata.reg_ts >= 1538352000000]"
   ]
  },
  {
   "cell_type": "code",
   "execution_count": 6,
   "metadata": {},
   "outputs": [],
   "source": [
    "# 각 매거진 별로 얼마나 글이 있는지 체크해보자\n",
    "mag_ids = list(after_oct_articles.magazine_id)\n",
    "\n",
    "u_mag_ids = set(mag_ids)\n",
    "\n",
    "mag_count_dic = {}\n",
    "for m_id in u_mag_ids:\n",
    "    mag_count_dic[m_id] = mag_ids.count(m_id)"
   ]
  },
  {
   "cell_type": "code",
   "execution_count": 7,
   "metadata": {},
   "outputs": [],
   "source": [
    "# 유저 데이터\n",
    "users = pd.read_json('res/users.json', lines=True)"
   ]
  },
  {
   "cell_type": "code",
   "execution_count": 8,
   "metadata": {},
   "outputs": [],
   "source": [
    "# read 데이터\n",
    "read_file_lst = glob.glob('res/read/*')\n",
    "exclude_file_lst = ['read.tar']\n",
    "\n",
    "read_df_lst = []\n",
    "for f in read_file_lst:\n",
    "    file_name = os.path.basename(f)\n",
    "    if file_name in exclude_file_lst:\n",
    "        print(file_name)\n",
    "    else:\n",
    "        df_temp = pd.read_csv(f, header=None, names=['raw'])\n",
    "        df_temp['dt'] = file_name[:8]\n",
    "        df_temp['hr'] = file_name[8:10]\n",
    "        df_temp['user_id'] = df_temp['raw'].str.split(' ').str[0]\n",
    "        df_temp['article_id'] = df_temp['raw'].str.split(' ').str[1:].str.join(' ').str.strip()\n",
    "        read_df_lst.append(df_temp)\n",
    "        \n",
    "read = pd.concat(read_df_lst)"
   ]
  },
  {
   "cell_type": "code",
   "execution_count": 9,
   "metadata": {},
   "outputs": [],
   "source": [
    "# read 데이터 가공\n",
    "def chainer(s):\n",
    "    return list(chain.from_iterable(s.str.split(' ')))\n",
    "read_cnt_by_user = read['article_id'].str.split(' ').map(len)\n",
    "read_raw = pd.DataFrame({'dt': np.repeat(read['dt'], read_cnt_by_user),\n",
    "                         'hr': np.repeat(read['hr'], read_cnt_by_user),\n",
    "                         'user_id': np.repeat(read['user_id'], read_cnt_by_user),\n",
    "                         'article_id': chainer(read['article_id'])})"
   ]
  },
  {
   "cell_type": "code",
   "execution_count": 10,
   "metadata": {},
   "outputs": [],
   "source": [
    "# 글별 소비수 통계\n",
    "atc_read_cnt = read_raw[read_raw.article_id != ''].groupby('article_id')['user_id'].count()\n",
    "atc_read_cnt = atc_read_cnt.reset_index()\n",
    "atc_read_cnt.columns = ['article_id', 'read_cnt']"
   ]
  },
  {
   "cell_type": "code",
   "execution_count": 11,
   "metadata": {},
   "outputs": [],
   "source": [
    "author_read_dic = {}\n",
    "\n",
    "for index, row in atc_read_cnt.iterrows():\n",
    "    atc = row['article_id']\n",
    "    author = ((row['article_id']).split(\"_\"))[0]\n",
    "    if author in author_read_dic:\n",
    "        author_read_dic[author].append(atc)\n",
    "    else:\n",
    "        article_list = []\n",
    "        article_list.append(atc)\n",
    "        author_read_dic[author] = article_list"
   ]
  },
  {
   "cell_type": "code",
   "execution_count": 12,
   "metadata": {},
   "outputs": [],
   "source": [
    "# 윈도우 예외처리 추가\n",
    "atc = metadata.copy()\n",
    "atc['reg_datetime'] = atc['reg_ts'].apply(lambda x :datetime.fromtimestamp(x/1000.0) if x/1000.0 != 0.0 else datetime(1970, 1, 1, 0, 0))\n",
    "atc.loc[atc['reg_datetime'] == atc['reg_datetime'].min(), 'reg_datetime'] = datetime(2090, 12, 31)\n",
    "atc['reg_dt'] = atc['reg_datetime'].dt.date\n",
    "atc['type'] = atc['magazine_id'].apply(lambda x : '개인' if x == 0.0 else '매거진')\n",
    "# 컬럼명 변경\n",
    "atc.columns = ['id', 'display_url', 'article_id', 'keyword_list', 'magazine_id', 'reg_ts', 'sub_title', 'title', 'author_id', 'reg_datetime', 'reg_dt', 'type']"
   ]
  },
  {
   "cell_type": "code",
   "execution_count": 13,
   "metadata": {},
   "outputs": [],
   "source": [
    "#metadata 결합\n",
    "atc_read_cnt = pd.merge(atc_read_cnt, atc, how='left', left_on='article_id', right_on='article_id')\n",
    "atc_read_cnt_nn = atc_read_cnt[atc_read_cnt['id'].notnull()]"
   ]
  },
  {
   "cell_type": "code",
   "execution_count": 14,
   "metadata": {},
   "outputs": [],
   "source": [
    "read_cnt_frame = atc_read_cnt_nn.sort_values([\"read_cnt\"], ascending=[False])\n",
    "optimize_frame = read_cnt_frame.drop(['id', 'display_url', 'sub_title', 'magazine_id', 'reg_ts', 'title', 'author_id', 'reg_dt', 'type'], axis=1)"
   ]
  },
  {
   "cell_type": "code",
   "execution_count": 15,
   "metadata": {},
   "outputs": [],
   "source": [
    "# article 기반 데이터 정제\n",
    "article_detail_dic = {}\n",
    "for row in optimize_frame.values:\n",
    "    article_detail_dic[row[0]] = {'read_cnt': row[1], 'keyword': row[2] ,'datetime': row[3]}"
   ]
  },
  {
   "cell_type": "code",
   "execution_count": 16,
   "metadata": {},
   "outputs": [],
   "source": [
    "# 전체 유저별 읽은 글 목록\n",
    "user_read_dic = {}\n",
    "for row in read_raw.values:\n",
    "    user_id = row[2]\n",
    "    article = row[3]\n",
    "    if user_read_dic.get(user_id, \"empty\") == \"empty\":\n",
    "        user_read_dic[user_id] = [article]\n",
    "    else:\n",
    "        user_read_dic[user_id].append(article)"
   ]
  },
  {
   "cell_type": "code",
   "execution_count": 17,
   "metadata": {},
   "outputs": [],
   "source": [
    "#유저별 팔로우 리스트\n",
    "user_follow_list = []\n",
    "for row in users.values:\n",
    "    user_id = row[1]\n",
    "    follow_list = row[0]\n",
    "    if \"@brunch\" in follow_list: follow_list.remove(\"@brunch\")\n",
    "\n",
    "    if len(follow_list) > 1:\n",
    "        user_follow_list.append(follow_list)"
   ]
  },
  {
   "cell_type": "code",
   "execution_count": 18,
   "metadata": {},
   "outputs": [],
   "source": [
    "# 유저별 팔로우 목록\n",
    "user_follow_dict = {}\n",
    "for row in users.values:\n",
    "    user_id = row[1]\n",
    "    follow_list = row[0]\n",
    "    user_follow_dict[user_id] = follow_list"
   ]
  },
  {
   "cell_type": "code",
   "execution_count": 19,
   "metadata": {},
   "outputs": [],
   "source": [
    "# 유저의 follow가 아니면서 읽은 글 수가 많은 작가 추리기 : 전체 유저가 읽은 목록 대상 조회\n",
    "followable_dic = {}\n",
    "\n",
    "for user_id, value in user_read_dic.items():\n",
    "    arcs = list(value).copy()\n",
    "    authors_map = map(lambda x: (x.split(\"_\"))[0], arcs)\n",
    "    authors = list(authors_map).copy()\n",
    "    \n",
    "    orinC1 = set(authors)\n",
    "    C1 = list(orinC1).copy()\n",
    "    \n",
    "    dic = {}\n",
    "    for at in C1:\n",
    "        dic[at] = authors.count(at)\n",
    "    \n",
    "    five_percent = round(len(user_read_dic[user_id]) / 5)\n",
    "    \n",
    "    for k, v in dic.items():\n",
    "        if v > 10: #or v > five_percent:\n",
    "            # 팔로우하는 작가가 있는 유저\n",
    "            if user_id in user_follow_dict:\n",
    "                if not k in (user_follow_dict[user_id]):\n",
    "                    if user_id in followable_dic:\n",
    "                        followable_dic[user_id].append(k)\n",
    "                    else:\n",
    "                        auth_list = []\n",
    "                        auth_list.append(k)\n",
    "                        followable_dic[user_id] = auth_list\n",
    "            else:\n",
    "                if user_id in followable_dic:\n",
    "                    followable_dic[user_id].append(k)\n",
    "                else:\n",
    "                    auth_list = []\n",
    "                    auth_list.append(k)\n",
    "                    followable_dic[user_id] = auth_list"
   ]
  },
  {
   "cell_type": "code",
   "execution_count": 20,
   "metadata": {},
   "outputs": [],
   "source": [
    "def convertTime (dateTime):\n",
    "    if dateTime == 0:\n",
    "        return 0\n",
    "    t = pd.Timestamp(dateTime)\n",
    "    return time.mktime(t.timetuple())"
   ]
  },
  {
   "cell_type": "code",
   "execution_count": 22,
   "metadata": {},
   "outputs": [],
   "source": [
    "# 유저별 팔로우 목록\n",
    "user_follow_dict = {}\n",
    "for row in users.values:\n",
    "    user_id = row[1]\n",
    "    follow_list = row[0]\n",
    "    user_follow_dict[user_id] = follow_list"
   ]
  },
  {
   "cell_type": "code",
   "execution_count": 25,
   "metadata": {},
   "outputs": [],
   "source": [
    "user_last_read_dic = {}\n",
    "for row in read_raw.values:\n",
    "    if user_last_read_dic.get(row[2], \"empty\") == \"empty\":\n",
    "        user_last_read_dic[row[2]] = {}\n",
    "    user_last_read_dic[row[2]][row[3]] = row[0]"
   ]
  },
  {
   "cell_type": "code",
   "execution_count": 27,
   "metadata": {},
   "outputs": [
    {
     "name": "stdout",
     "output_type": "stream",
     "text": [
      "[Train-1] Start\n"
     ]
    }
   ],
   "source": [
    "# followable 얻기위해 apriori 알고리즘 사용\n",
    "print(\"[Train-1] Start\")\n",
    "test_list = user_follow_list.copy()\n",
    "\n",
    "count = len(test_list)\n",
    "\n",
    "def createC1(dataSet):\n",
    "    C1=[]\n",
    "    \n",
    "    for transaction in dataSet:\n",
    "        for item in transaction:\n",
    "            if not [item] in C1:\n",
    "                C1.append([item])\n",
    "\n",
    "    C1.sort()\n",
    "    return map(frozenset, C1)\n",
    "\n",
    "\n",
    "def scanD(D, Ck, minSupport):\n",
    "    # 요소 n 은 몇개의 그룹에 포함되어 있는지 계산한다.\n",
    "    ssCnt = {}\n",
    "    for tid in D:\n",
    "        for can in Ck:\n",
    "            if can.issubset(tid):\n",
    "                if can not in ssCnt: ssCnt[can] = 1 \n",
    "                else: ssCnt[can] += 1\n",
    "\n",
    "    \n",
    "    # 지지도가 0.5보다 높은것들의 리스트를 구함. \n",
    "    numItems = float(count) # 그룹 갯수\n",
    "    retList = []\n",
    "    supportData = {}\n",
    "    for key , value in ssCnt.items():\n",
    "        try:\n",
    "            support = value / numItems\n",
    "            \n",
    "            if support >= minSupport:\n",
    "                retList.insert(0,key)\n",
    "            \n",
    "            supportData[key] = support\n",
    "        except ZeroDivisionError:\n",
    "            print('zero_division_error')\n",
    "        \n",
    "        \n",
    "\n",
    "    return retList, supportData\n",
    "\n",
    "def aprioriGen(Lk, k):\n",
    "    retList = []\n",
    "    lenLk = len(Lk)\n",
    "    \n",
    "    for i in range(lenLk):\n",
    "        for j in range(i+1, lenLk):\n",
    "            L1 = list(Lk[i])[:k-2]; L2 = list(Lk[j])[:k-2]\n",
    "            L1.sort(); L2.sort()\n",
    "            if L1 == L2:\n",
    "                retList.append(Lk[i] | Lk[j])\n",
    "\n",
    "    return retList\n",
    "\n",
    "# 특정 지지도 이상의 값들의 쌍을 찾음 \n",
    "def apriori(dataset, minSupport = 0.01):\n",
    "    orinC1 = createC1(dataset)\n",
    "    C1 = list(orinC1).copy()\n",
    "    \n",
    "    orinD = map(set, dataset)\n",
    "    D = list(orinD).copy()\n",
    "\n",
    "    L1 , supportData = scanD(D, C1, minSupport)\n",
    "    L = [L1]\n",
    "    k = 2\n",
    "    while (len(L[k-2]) > 0):\n",
    "        Ck = aprioriGen(L[k-2],k)\n",
    "        Lk,supK = scanD(D,Ck,minSupport) # 후보그룹을 모두 찾는다.\n",
    "        supportData.update(supK)\n",
    "        L.append(Lk) #이게 핵심!특정 지지도 이상의 그룹들만 L에 담는다.즉 가지치기\n",
    "        k += 1\n",
    "        \n",
    "    return L, supportData\n",
    "\n",
    "def generateRules(L, supportData, minConf=0.01):\n",
    "    bigRuleList = []\n",
    "    for i in range(1, len(L)):\n",
    "        for freqSet in L[i]:\n",
    "            H1 = [frozenset([item]) for item in freqSet]\n",
    "            if i>1:\n",
    "                rulesFromConseq(freqSet, H1, supportData, bigRuleList, minConf)\n",
    "            else:\n",
    "                calcConf(freqSet,H1,supportData, bigRuleList, minConf)\n",
    "\n",
    "    return bigRuleList\n",
    "\n",
    "\n",
    "def calcConf(freqSet, H, supportData, br1, minConf=0.01):\n",
    "    prunedH = []\n",
    "    for conseq in H:\n",
    "        conf = supportData[freqSet] / supportData[freqSet-conseq]\n",
    "        if conf >= minConf:\n",
    "            #print (freqSet-conseq, '-->', conseq, 'conf:', conf)\n",
    "            \n",
    "            br1.append((freqSet-conseq, conseq, conf))\n",
    "            prunedH.append(conseq)\n",
    "    return prunedH\n",
    "\n",
    "def rulesFromConseq(freqSet, H, supportData, br1, minConf=0.01):\n",
    "    m = len(H[0])\n",
    "    \n",
    "    if (len(freqSet) > (m + 1)):\n",
    "        Hmp1 = aprioriGen(H, m+1)\n",
    "        Hmp1 = calcConf(freqSet, Hmp1, supportData, br1, minConf)\n",
    "\n",
    "        if (len(Hmp1) > 1):\n",
    "            rulesFromConseq(freqSet, Hmp1, supportData, br1, minConf)\n",
    "            \n",
    "L, suppData = apriori(test_list, minSupport = 0.01)\n",
    "# print (\"L:\" + str(L))\n",
    "# print (\".........................\")\n",
    "# print (\"suppData:\" + str(suppData))\n",
    "rules = generateRules(L, suppData, minConf=0.01)\n"
   ]
  },
  {
   "cell_type": "code",
   "execution_count": 28,
   "metadata": {},
   "outputs": [],
   "source": [
    "relative_dic = {}\n",
    "for rule in rules:\n",
    "    conf = rule[2]\n",
    "    if conf > 0.3:\n",
    "        user = list(rule[0])[0]\n",
    "        target = list(rule[1])[0]\n",
    "        if user in relative_dic:\n",
    "            relative_dic[user].append(target)\n",
    "        else:\n",
    "            target_list = []\n",
    "            target_list.append(target)\n",
    "            relative_dic[user] = target_list"
   ]
  },
  {
   "cell_type": "code",
   "execution_count": 29,
   "metadata": {},
   "outputs": [
    {
     "name": "stdout",
     "output_type": "stream",
     "text": [
      "[=================== ] 100%                   ] 5%[=                   ] 6%[=                   ] 10%[===                 ] 18%[====                ] 21%[=========           ] 47%[=========           ] 47%[=========           ] 48%[===========         ] 55%[===========         ] 55%[=============       ] 65%[==============      ] 71%[==============      ] 73%[==============      ] 75%[=================   ] 88%[==================  ] 93%[==================  ] 94%[=================== ] 98%"
     ]
    }
   ],
   "source": [
    "# followable_dic 목록에 연관성이 30%이상인 팔로워 목록을 추가한다\n",
    "step = 0\n",
    "step_end = len(user_follow_dict.items())\n",
    "for key, follower_list in user_follow_dict.items():\n",
    "    step +=1\n",
    "    drawProgressBar(step / step_end)\n",
    "    avail = []\n",
    "    \n",
    "    for follower in follower_list:\n",
    "        if follower in relative_dic:\n",
    "            avail.extend(relative_dic[follower])\n",
    "    \n",
    "    if len(avail) > 0:\n",
    "        #print(str(avail))\n",
    "        for author in avail:\n",
    "            if not author in follower_list:\n",
    "                if not key in followable_dic:\n",
    "                    #print('make new list: ' + key)\n",
    "                    new_list = []\n",
    "                    followable_dic[key] = new_list\n",
    "                    \n",
    "                followable_dic[key].append(author)\n",
    "                #print('added \\'' + author + '\\' in ' + key)"
   ]
  },
  {
   "cell_type": "code",
   "execution_count": 30,
   "metadata": {},
   "outputs": [],
   "source": [
    "# 키워드 목록\n",
    "keyword_list = list(after_oct_articles.keyword_list)\n",
    "ids = list(after_oct_articles.id)\n",
    "size = len(after_oct_articles)\n",
    "\n",
    "key_dic = {}\n",
    "for i in range(0, size):\n",
    "    if len(keyword_list[i]) > 0:\n",
    "        key_dic[ids[i]] = keyword_list[i]"
   ]
  },
  {
   "cell_type": "code",
   "execution_count": 31,
   "metadata": {},
   "outputs": [
    {
     "name": "stdout",
     "output_type": "stream",
     "text": [
      "[=================== ] 100%===                 ] 18%[====                ] 22%[=====               ] 27%[=====               ] 28%[=======             ] 36%[==========          ] 53%[===========         ] 57%[============        ] 62%[==============      ] 71%[================    ] 81%[=================   ] 85%[=================   ] 88%[==================  ] 92%[==================  ] 93%[==================  ] 94%[=================== ] 95%[=================== ] 96%[=================== ] 99%"
     ]
    }
   ],
   "source": [
    "# 많이 읽은 키워드 정리\n",
    "step = 0\n",
    "step_end = len(user_read_dic.items())\n",
    "\n",
    "user_keywords_dic = {}\n",
    "\n",
    "for user_id, value in user_read_dic.items():\n",
    "    step +=1\n",
    "    drawProgressBar(step / step_end)\n",
    "    \n",
    "    arcs = list(value).copy()\n",
    "    has_key_cnt = 0\n",
    "    dic = {}\n",
    "    for arc in arcs:\n",
    "        # 매거진 글인지 체크\n",
    "        if arc in key_dic:\n",
    "            has_key_cnt += 1 # 키워드가 있는 글을 몇 개나 읽었나\n",
    "            key_list = key_dic[arc]\n",
    "            \n",
    "            for key in key_list:\n",
    "                if not key in dic:\n",
    "                    dic[key] = 0\n",
    "                dic[key] += 1 # 읽은 글의 키워드 카운팅\n",
    "    \n",
    "    for k, v in dic.items():\n",
    "        if v < 10: continue\n",
    "        score = v / has_key_cnt\n",
    "        # print(k + ' : ' + str(score))\n",
    "        \n",
    "        if not user_id in user_keywords_dic:\n",
    "            score_dic = {}\n",
    "            user_keywords_dic[user_id] = score_dic\n",
    "        \n",
    "        (user_keywords_dic[user_id])[k] = score"
   ]
  },
  {
   "cell_type": "code",
   "execution_count": 32,
   "metadata": {},
   "outputs": [],
   "source": [
    "# 매거진 정리\n",
    "has_mag_atcs = after_oct_articles[after_oct_articles.magazine_id > 0]"
   ]
  },
  {
   "cell_type": "code",
   "execution_count": 33,
   "metadata": {},
   "outputs": [],
   "source": [
    "ids = list(has_mag_atcs.id)\n",
    "mags = list(has_mag_atcs.magazine_id)\n",
    "\n",
    "size = len(has_mag_atcs)\n",
    "mags_dic = {}\n",
    "\n",
    "for i in range(0, size):\n",
    "    mags_dic[ids[i]] = mags[i]"
   ]
  },
  {
   "cell_type": "code",
   "execution_count": 34,
   "metadata": {},
   "outputs": [
    {
     "name": "stdout",
     "output_type": "stream",
     "text": [
      "[=================== ] 100%                   ] 2%[                    ] 3%[=                   ] 5%[=                   ] 5%[=                   ] 6%[=                   ] 6%[==                  ] 11%[==                  ] 13%[===                 ] 15%[===                 ] 15%[===                 ] 17%[===                 ] 19%[=======             ] 37%[========            ] 42%[=========           ] 46%[=========           ] 49%[==========          ] 50%[==========          ] 51%[==========          ] 52%[==========          ] 54%[==========          ] 55%[===========         ] 56%[=============       ] 66%[=============       ] 66%[=============       ] 67%[==============      ] 73%[==============      ] 74%[===============     ] 76%[===============     ] 79%[================    ] 81%[================    ] 82%[=================   ] 86%[==================  ] 92%[==================  ] 94%[=================== ] 95%[=================== ] 96%[=================== ] 96%[=================== ] 97%[=================== ] 100%"
     ]
    }
   ],
   "source": [
    "# 유저의 매거진 글 선호도 체크\n",
    "user_mag_dic = {} # dic[dic[int]] 객체\n",
    "\n",
    "step = 0\n",
    "step_end = len(user_read_dic.items())\n",
    "\n",
    "for user_id, value in user_read_dic.items():\n",
    "    step +=1\n",
    "    drawProgressBar(step / step_end)\n",
    "    \n",
    "    arcs = list(value).copy()\n",
    "    \n",
    "    dic = {}\n",
    "    for arc in arcs:\n",
    "        # 매거진 글인지 체크\n",
    "        if arc in mags_dic:\n",
    "            mag_id = mags_dic[arc]\n",
    "            if not mag_id in dic:\n",
    "                dic[mag_id] = 0\n",
    "            dic[mag_id] += 1 # 읽은 매거진 글 카운팅\n",
    "    \n",
    "    for k, v in dic.items():\n",
    "        arc_cn = mag_count_dic[k]\n",
    "        prefer = v / arc_cn\n",
    "        # print('arc_cn: ' + str(arc_cn) + ': ' + str(v))\n",
    "        \n",
    "        if not user_id in user_mag_dic:\n",
    "            prefer_dic = {}\n",
    "            user_mag_dic[user_id] = prefer_dic\n",
    "            \n",
    "        # 여러번 읽은 경우에 최대치 1\n",
    "        if prefer > 1.0:\n",
    "            prefer = 1.0\n",
    "        (user_mag_dic[user_id])[k] = prefer"
   ]
  },
  {
   "cell_type": "code",
   "execution_count": 35,
   "metadata": {},
   "outputs": [
    {
     "name": "stdout",
     "output_type": "stream",
     "text": [
      "[====================] 100%====                ] 22%[====                ] 23%[=====               ] 26%[=====               ] 27%[=====               ] 28%[=======             ] 37%[=======             ] 39%[========            ] 45%[=========           ] 49%[==========          ] 51%[============        ] 64%[=============       ] 66%[==============      ] 70%[==============      ] 72%[===============     ] 77%[=================   ] 87%[=================   ] 87%[==================  ] 91%[==================  ] 93%[==================  ] 95%[=================== ] 99%"
     ]
    }
   ],
   "source": [
    "# 유저의 작가별 글 선호도 체크\n",
    "user_prefer_dic = {} # dic[dic[float]] 객체\n",
    "\n",
    "step = 0\n",
    "step_end = len(user_read_dic.items())\n",
    "\n",
    "for user_id, value in user_read_dic.items():\n",
    "    step +=1\n",
    "    drawProgressBar(step / step_end)\n",
    "    \n",
    "    arcs = list(value).copy()\n",
    "    authors_map = map(lambda x: (x.split(\"_\"))[0], arcs)\n",
    "    authors = list(authors_map).copy()\n",
    "    \n",
    "    orinC1 = set(authors)\n",
    "    C1 = list(orinC1).copy()\n",
    "    \n",
    "    dic = {}\n",
    "    for at in C1:\n",
    "        if len(at) > 0:\n",
    "            dic[at] = authors.count(at)\n",
    "    #print(str(dic))\n",
    "    \n",
    "    for k, v in dic.items():\n",
    "        prefer = v / len(author_read_dic[k]) # 작가가 쓴 글에서 읽은 글 수\n",
    "        \n",
    "        if user_id in user_prefer_dic:\n",
    "            (user_prefer_dic[user_id])[k] = prefer\n",
    "        else:\n",
    "            prefer_dic = {}\n",
    "            prefer_dic[k] = prefer\n",
    "            user_prefer_dic[user_id] = prefer_dic\n"
   ]
  },
  {
   "cell_type": "code",
   "execution_count": 39,
   "metadata": {},
   "outputs": [
    {
     "name": "stdout",
     "output_type": "stream",
     "text": [
      "[====================] 100%"
     ]
    }
   ],
   "source": [
    "# 포인트 계산 - 이게 오래 걸림\n",
    "\n",
    "temp = {}\n",
    "ids = list(after_oct_articles.id)\n",
    "users = list(after_oct_articles.user_id)\n",
    "times = list(after_oct_articles.reg_ts)\n",
    "size = len(after_oct_articles)\n",
    "\n",
    "for i in range(0, size):\n",
    "    temp[ids[i]] = {\"author\": users[i], \"ts\": times[i]}\n",
    "    \n",
    "#print(len(temp))\n",
    "\n",
    "all_read_cnt = len(read)\n",
    "#print(all_read_cnt)\n",
    "maxT = 1554044340000\n",
    "term = maxT - 1538352219000 # 1546300963000\n",
    "term2 = maxT - 1548979335000 # 2월 이후 글 중에서 \n",
    "\n",
    "pre_atc_dic = {}\n",
    "feb_articles_dic = {}\n",
    "\n",
    "step = 0\n",
    "step_end = len(temp.items())\n",
    "\n",
    "for key, value in temp.items():\n",
    "    step +=1\n",
    "    drawProgressBar(step / step_end)\n",
    "    \n",
    "    author = value['author']\n",
    "    arc_id = key\n",
    "    popular = 0\n",
    "    read_cnt = 0\n",
    "    \n",
    "    if (atc_read_cnt['article_id'] == arc_id).any():\n",
    "        a = atc_read_cnt[atc_read_cnt['article_id'] == arc_id]['read_cnt']\n",
    "        read_cnt = a.values[0]\n",
    "        if read_cnt > 10:\n",
    "            popular = (read_cnt / all_read_cnt) * 1000 # 글의 유명세\n",
    "            # print(popular)\n",
    "    \n",
    "    add_dic = {}\n",
    "    date = (maxT - value['ts']) / term # 최신에 가까울수록 1\n",
    "\n",
    "    date2 = 0\n",
    "    if value['ts'] > 1548979335000: # 2월 이후 애들끼리 경쟁\n",
    "        date2 = (maxT - value['ts']) / term2 \n",
    "    \n",
    "    # 옛날 글 일수록 점수 많이 낮아지라고..\n",
    "    if date >= 0.1:\n",
    "        date = math.log10(date * 10)\n",
    "   \n",
    "    add_dic['date_point'] = date\n",
    "    add_dic['popular'] = popular\n",
    "    add_dic['author'] = author\n",
    "    # print(str(add_dic))\n",
    "    \n",
    "    if value['ts'] > 1548979335000:\n",
    "        add_dic['date_point'] = date2\n",
    "        feb_articles_dic[arc_id] = add_dic # 2월 이후 글\n",
    "    else:\n",
    "        pre_atc_dic[arc_id] = add_dic # 2월 이전 전체 글\n"
   ]
  },
  {
   "cell_type": "code",
   "execution_count": 119,
   "metadata": {},
   "outputs": [
    {
     "name": "stdout",
     "output_type": "stream",
     "text": [
      "[====================] 100%"
     ]
    }
   ],
   "source": [
    "result_dic = {}\n",
    "step = 0\n",
    "step_end = len(predict_users.user_id)\n",
    "\n",
    "for user in predict_users.user_id:\n",
    "    step +=1\n",
    "    drawProgressBar(step / step_end)\n",
    "    \n",
    "    arc_dic = {}\n",
    "   \n",
    "    is_in_preferdic = False\n",
    "    if user in user_prefer_dic:\n",
    "        is_in_preferdic = True\n",
    "        \n",
    "    has_follow = False\n",
    "    if user in user_follow_dict:\n",
    "        has_follow = True\n",
    "    \n",
    "    has_followable = False\n",
    "    if user in followable_dic:\n",
    "        has_followable = True\n",
    "        \n",
    "    has_mag_dic = False\n",
    "    if user in user_mag_dic:\n",
    "        has_mag_dic = True\n",
    "        \n",
    "    has_key_dic = False\n",
    "    if user in user_keywords_dic:\n",
    "        has_key_dic = True\n",
    "        \n",
    "    for key, value in feb_articles_dic.items():\n",
    "        # print(value)\n",
    "        author = value['author']\n",
    "        arc_id = key\n",
    "        date = value['date_point']\n",
    "        popular = value['popular']\n",
    "        \n",
    "        # 유저가 이미 읽은글인지 판단\n",
    "        if arc_id in user_read_dic[user]:\n",
    "            # print('already read')\n",
    "            continue\n",
    "        \n",
    "        au_prefer = 0.0\n",
    "        if is_in_preferdic:\n",
    "            if author in user_prefer_dic[user]:\n",
    "                au_prefer = user_prefer_dic[user][author] # 작가 선호도\n",
    "        \n",
    "        mag_prefer = 0.0\n",
    "        if has_mag_dic:\n",
    "            if arc_id in mags_dic:\n",
    "                mag_id = mags_dic[arc_id]\n",
    "                if mag_id in user_mag_dic[user]:\n",
    "                    mag_prefer = user_mag_dic[user][mag_id] # 매거진 선호도\n",
    "        \n",
    "        keyword_score = 0.0\n",
    "\n",
    "        if has_key_dic and arc_id in key_dic:\n",
    "            keys = key_dic[arc_id]\n",
    "            # print('key_list: ' + str(keys))\n",
    "            \n",
    "            for w in keys:\n",
    "                if w in user_keywords_dic[user]:\n",
    "                    keyword_score += user_keywords_dic[user][w]\n",
    "        \n",
    "        if keyword_score > 1.0:\n",
    "            keyword_score = math.log(keyword_score) + 1\n",
    "\n",
    "        base = date + au_prefer + popular + mag_prefer + keyword_score\n",
    "  \n",
    "        # 팔로우 작가가 있는 유저\n",
    "        if has_follow:\n",
    "            if author in (user_follow_dict[user]): # 팔로우 작가면\n",
    "                base = base * 3\n",
    "                # print(\"follow author \" + str(base))\n",
    "                \n",
    "        if has_followable:\n",
    "            # print(\"followable\" + followable_dic[user])\n",
    "            if author in (followable_dic[user]): # 글 많이 읽은 작가면\n",
    "                base = base * 1.2\n",
    "                # print(\"followable author \" + str(base))\n",
    "        \n",
    "        if base > 1.7:\n",
    "            # print(\"--- id: \" + arc_id + \" : \" + str(base))\n",
    "            arc_dic[arc_id] = base\n",
    "    \n",
    "    arc_dic = sorted(arc_dic, key = lambda k : arc_dic[k], reverse = True)\n",
    "    # print(str(arc_dic[:100]))\n",
    "    \n",
    "    arc_list = list(arc_dic).copy()\n",
    "    # print(str(len(arc_list)))\n",
    "    if len(arc_list) >= 100:\n",
    "        result_dic[user] = arc_list[:100]\n",
    "        # print('all list fill')\n",
    "    else: \n",
    "        remain = 100 - len(arc_list)\n",
    "        result_dic[user] = arc_list\n",
    "        # print('remain the list: ' + str(remain))"
   ]
  },
  {
   "cell_type": "code",
   "execution_count": null,
   "metadata": {},
   "outputs": [
    {
     "name": "stdout",
     "output_type": "stream",
     "text": [
      "[===========         ] 60%"
     ]
    }
   ],
   "source": [
    "remain_dic = {}\n",
    "\n",
    "step = 0\n",
    "step_end = len(predict_users.user_id)\n",
    "\n",
    "for user in predict_users.user_id:\n",
    "    # print(user)\n",
    "    arc_dic = {}\n",
    "    \n",
    "    step +=1\n",
    "    drawProgressBar(step / step_end)\n",
    "    \n",
    "    # 다 채운 유저면 다음으로 넘어가기\n",
    "    if len(result_dic[user]) == 100:\n",
    "        continue\n",
    "    \n",
    "    is_in_preferdic = False\n",
    "    if user in user_prefer_dic:\n",
    "        is_in_preferdic = True\n",
    "        \n",
    "    has_follow = False\n",
    "    if user in user_follow_dict:\n",
    "        has_follow = True\n",
    "    \n",
    "    has_followable = False\n",
    "    if user in followable_dic:\n",
    "        has_followable = True\n",
    "        \n",
    "    has_mag_dic = False\n",
    "    if user in user_mag_dic:\n",
    "        has_mag_dic = True\n",
    "        \n",
    "    has_key_dic = False\n",
    "    if user in user_keywords_dic:\n",
    "        has_key_dic = True\n",
    "    \n",
    "    # print(len(result_dic[user]))\n",
    "    remain = 100 - len(result_dic[user])\n",
    "        \n",
    "    for key, value in pre_atc_dic.items(): # 2월 이후 글 제외하고 다시 추천\n",
    "        # print(value)\n",
    "        if key in result_dic[user]:\n",
    "            continue\n",
    "        \n",
    "         # 유저가 이미 읽은글인지 판단\n",
    "        if key in user_read_dic[user]:\n",
    "            continue\n",
    "        \n",
    "        author = value['author']\n",
    "        arc_id = key\n",
    "        date = value['date_point']\n",
    "        popular = value['popular']\n",
    "        \n",
    "        au_prefer = 0.0\n",
    "        if is_in_preferdic:\n",
    "            if author in user_prefer_dic[user]:\n",
    "                au_prefer = user_prefer_dic[user][author] # 작가 선호도\n",
    "        \n",
    "        mag_prefer = 0.0\n",
    "        if has_mag_dic:\n",
    "            if arc_id in mags_dic:\n",
    "                mag_id = mags_dic[arc_id]\n",
    "                if mag_id in user_mag_dic[user]:\n",
    "                    mag_prefer = user_mag_dic[user][mag_id] # 매거진 선호도\n",
    "                    # print('mag_id: ' + str(mag_id) + \": \" + str(mag_prefer))\n",
    "\n",
    "        keyword_score = 0.0\n",
    "\n",
    "        if has_key_dic and arc_id in key_dic:\n",
    "            keys = key_dic[arc_id]\n",
    "            # print('key_list: ' + str(keys))\n",
    "            \n",
    "            for w in keys:\n",
    "                if w in user_keywords_dic[user]:\n",
    "                    keyword_score += user_keywords_dic[user][w]\n",
    "            \n",
    "        if popular > 1.0:\n",
    "            popular = 1.0\n",
    "\n",
    "        # base = date + au_prefer + popular + mag_prefer + keyword_score\n",
    "        base = (au_prefer + mag_prefer + keyword_score) * 2 + popular # 개인화 가중치\n",
    "\n",
    "        # 팔로우 작가가 있는 유저\n",
    "        if has_follow:\n",
    "            if author in (user_follow_dict[user]): # 팔로우 작가면\n",
    "                base = base * 3\n",
    "                # print(\"follow author \" + str(base))\n",
    "                \n",
    "        if has_followable:\n",
    "            # print(\"followable\" + followable_dic[user])\n",
    "            if author in (followable_dic[user]): # 글 많이 읽은 작가면\n",
    "                base = base * 1.2\n",
    "                # print(\"followable author \" + str(base))\n",
    "        \n",
    "        if base > 0.3:\n",
    "            # print(\"--- id: \" + arc_id + \" : \" + str(base) + ' : ' + str(keyword_score))\n",
    "            arc_dic[arc_id] = base\n",
    "    \n",
    "    arc_dic = sorted(arc_dic, key = lambda k : arc_dic[k], reverse = True)\n",
    "    # print(arc_dic[:remain])\n",
    "    \n",
    "    arc_list = list(arc_dic[:remain]).copy()\n",
    "    remain_dic[user] = arc_list"
   ]
  },
  {
   "cell_type": "code",
   "execution_count": 94,
   "metadata": {},
   "outputs": [
    {
     "name": "stdout",
     "output_type": "stream",
     "text": [
      "[Train-1] End\n"
     ]
    }
   ],
   "source": [
    "merge_dic = {}\n",
    "\n",
    "for user in predict_users.user_id:\n",
    "    feb_recomm = copy.deepcopy(result_dic[user])\n",
    "    after_recomm = []\n",
    "    \n",
    "    if len(feb_recomm) < 100:\n",
    "        after_recomm = copy.deepcopy(remain_dic[user])\n",
    "    \n",
    "    # print(str(len(feb_recomm)) + ':' + str(feb_recomm))\n",
    "    # print(str(len(after_recomm)) + ':' + str(after_recomm))\n",
    "    \n",
    "    merge_dic[user] = feb_recomm\n",
    "    feb_cnt = 100 - len(feb_recomm)\n",
    "    \n",
    "    if not feb_cnt == 0:\n",
    "        merge_dic[user].extend(after_recomm[:feb_cnt])\n",
    "    \n",
    "    # print(str(merge_dic[user]))\n",
    "    \n",
    "    if len(merge_dic[user]) != 100: print('ERROR!!!' + user + str(len(merge_dic[user])))\n",
    "        \n",
    "print(\"[Train-1] End\")"
   ]
  },
  {
   "cell_type": "code",
   "execution_count": 108,
   "metadata": {},
   "outputs": [
    {
     "name": "stdout",
     "output_type": "stream",
     "text": [
      "[Train-2] Start\n"
     ]
    }
   ],
   "source": [
    "# 2차 학습\n",
    "print(\"[Train-2] Start\")\n",
    "train2_data = atc_read_cnt_nn.sort_values([\"read_cnt\"], ascending=[False]).article_id"
   ]
  },
  {
   "cell_type": "code",
   "execution_count": 109,
   "metadata": {},
   "outputs": [
    {
     "data": {
      "text/plain": [
       "476147"
      ]
     },
     "execution_count": 109,
     "metadata": {},
     "output_type": "execute_result"
    }
   ],
   "source": [
    "len(train2_data)"
   ]
  },
  {
   "cell_type": "code",
   "execution_count": 110,
   "metadata": {},
   "outputs": [
    {
     "name": "stdout",
     "output_type": "stream",
     "text": [
      "[====                ] 22%"
     ]
    },
    {
     "ename": "KeyboardInterrupt",
     "evalue": "",
     "output_type": "error",
     "traceback": [
      "\u001b[0;31m---------------------------------------------------------------------------\u001b[0m",
      "\u001b[0;31mKeyboardInterrupt\u001b[0m                         Traceback (most recent call last)",
      "\u001b[0;32m<ipython-input-110-7afa54c73021>\u001b[0m in \u001b[0;36m<module>\u001b[0;34m()\u001b[0m\n\u001b[1;32m     11\u001b[0m     \u001b[0mresult\u001b[0m\u001b[0;34m[\u001b[0m\u001b[0mid\u001b[0m\u001b[0;34m]\u001b[0m \u001b[0;34m=\u001b[0m \u001b[0mmerge_dic\u001b[0m\u001b[0;34m[\u001b[0m\u001b[0mid\u001b[0m\u001b[0;34m]\u001b[0m\u001b[0;34m[\u001b[0m\u001b[0;34m:\u001b[0m\u001b[0;36m55\u001b[0m\u001b[0;34m]\u001b[0m\u001b[0;34m\u001b[0m\u001b[0m\n\u001b[1;32m     12\u001b[0m     \u001b[0malready_use\u001b[0m\u001b[0;34m.\u001b[0m\u001b[0mextend\u001b[0m\u001b[0;34m(\u001b[0m\u001b[0mresult\u001b[0m\u001b[0;34m[\u001b[0m\u001b[0mid\u001b[0m\u001b[0;34m]\u001b[0m\u001b[0;34m)\u001b[0m\u001b[0;34m\u001b[0m\u001b[0m\n\u001b[0;32m---> 13\u001b[0;31m     \u001b[0mtrain2_data\u001b[0m \u001b[0;34m=\u001b[0m \u001b[0;34m[\u001b[0m\u001b[0marticle\u001b[0m \u001b[0;32mfor\u001b[0m \u001b[0marticle\u001b[0m \u001b[0;32min\u001b[0m \u001b[0mtrain2_data\u001b[0m \u001b[0;32mif\u001b[0m \u001b[0marticle\u001b[0m \u001b[0;32mnot\u001b[0m \u001b[0;32min\u001b[0m \u001b[0malready_use\u001b[0m\u001b[0;34m]\u001b[0m\u001b[0;34m\u001b[0m\u001b[0m\n\u001b[0m\u001b[1;32m     14\u001b[0m     \u001b[0malready_use\u001b[0m \u001b[0;34m=\u001b[0m \u001b[0;34m[\u001b[0m\u001b[0;34m]\u001b[0m\u001b[0;34m\u001b[0m\u001b[0m\n\u001b[1;32m     15\u001b[0m \u001b[0;34m\u001b[0m\u001b[0m\n",
      "\u001b[0;32m<ipython-input-110-7afa54c73021>\u001b[0m in \u001b[0;36m<listcomp>\u001b[0;34m(.0)\u001b[0m\n\u001b[1;32m     11\u001b[0m     \u001b[0mresult\u001b[0m\u001b[0;34m[\u001b[0m\u001b[0mid\u001b[0m\u001b[0;34m]\u001b[0m \u001b[0;34m=\u001b[0m \u001b[0mmerge_dic\u001b[0m\u001b[0;34m[\u001b[0m\u001b[0mid\u001b[0m\u001b[0;34m]\u001b[0m\u001b[0;34m[\u001b[0m\u001b[0;34m:\u001b[0m\u001b[0;36m55\u001b[0m\u001b[0;34m]\u001b[0m\u001b[0;34m\u001b[0m\u001b[0m\n\u001b[1;32m     12\u001b[0m     \u001b[0malready_use\u001b[0m\u001b[0;34m.\u001b[0m\u001b[0mextend\u001b[0m\u001b[0;34m(\u001b[0m\u001b[0mresult\u001b[0m\u001b[0;34m[\u001b[0m\u001b[0mid\u001b[0m\u001b[0;34m]\u001b[0m\u001b[0;34m)\u001b[0m\u001b[0;34m\u001b[0m\u001b[0m\n\u001b[0;32m---> 13\u001b[0;31m     \u001b[0mtrain2_data\u001b[0m \u001b[0;34m=\u001b[0m \u001b[0;34m[\u001b[0m\u001b[0marticle\u001b[0m \u001b[0;32mfor\u001b[0m \u001b[0marticle\u001b[0m \u001b[0;32min\u001b[0m \u001b[0mtrain2_data\u001b[0m \u001b[0;32mif\u001b[0m \u001b[0marticle\u001b[0m \u001b[0;32mnot\u001b[0m \u001b[0;32min\u001b[0m \u001b[0malready_use\u001b[0m\u001b[0;34m]\u001b[0m\u001b[0;34m\u001b[0m\u001b[0m\n\u001b[0m\u001b[1;32m     14\u001b[0m     \u001b[0malready_use\u001b[0m \u001b[0;34m=\u001b[0m \u001b[0;34m[\u001b[0m\u001b[0;34m]\u001b[0m\u001b[0;34m\u001b[0m\u001b[0m\n\u001b[1;32m     15\u001b[0m \u001b[0;34m\u001b[0m\u001b[0m\n",
      "\u001b[0;31mKeyboardInterrupt\u001b[0m: "
     ]
    }
   ],
   "source": [
    "# 중복없이 100개 추출하기\n",
    "step = 0\n",
    "step_end = len(predict_users.user_id)\n",
    "temp_result = {}\n",
    "result = {}\n",
    "predict_ids = predict_users.user_id\n",
    "already_use = []\n",
    "for id in predict_users.user_id:\n",
    "    step +=1\n",
    "    drawProgressBar(step / step_end)\n",
    "    result[id] = merge_dic[id][:55]\n",
    "    already_use.extend(result[id])\n",
    "    train2_data = [article for article in train2_data if article not in already_use]\n",
    "    already_use = []\n",
    "    \n",
    "    temp_result[id] = train2_data[:45]\n",
    "    already_use.extend(temp_result[id])\n",
    "    \n",
    "    result[id].extend(temp_result[id])"
   ]
  },
  {
   "cell_type": "code",
   "execution_count": null,
   "metadata": {},
   "outputs": [],
   "source": [
    "print(\"[Train-2] End\")\n",
    "print(\"All Train Success\")"
   ]
  },
  {
   "cell_type": "code",
   "execution_count": 115,
   "metadata": {},
   "outputs": [],
   "source": [
    "save_data = []\n",
    "for idx in range(0, len(predict_users.user_id)):\n",
    "    user_id = predict_users.user_id[idx]\n",
    "    temp = [user_id]\n",
    "    temp.extend(result[user_id])\n",
    "    temp = [' '.join(temp)]\n",
    "    save_data.append(temp)"
   ]
  },
  {
   "cell_type": "code",
   "execution_count": 116,
   "metadata": {},
   "outputs": [],
   "source": [
    "save = pd.DataFrame(save_data)"
   ]
  },
  {
   "cell_type": "code",
   "execution_count": 118,
   "metadata": {},
   "outputs": [],
   "source": [
    "save.to_csv(\"result.csv\", header=False, index=False);\n",
    "print(\"[Success] result.csv\")"
   ]
  }
 ],
 "metadata": {
  "kernelspec": {
   "display_name": "Python 3",
   "language": "python",
   "name": "python3"
  },
  "language_info": {
   "codemirror_mode": {
    "name": "ipython",
    "version": 3
   },
   "file_extension": ".py",
   "mimetype": "text/x-python",
   "name": "python",
   "nbconvert_exporter": "python",
   "pygments_lexer": "ipython3",
   "version": "3.6.3"
  }
 },
 "nbformat": 4,
 "nbformat_minor": 2
}
